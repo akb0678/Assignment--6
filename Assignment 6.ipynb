{
 "cells": [
  {
   "cell_type": "markdown",
   "id": "3ca0a512",
   "metadata": {},
   "source": [
    "# Assignment 1\n",
    "#1. Create a JSON file (employee.json) containing employee information of minimum 5 employees. Each employee information consists of Name, DOB, Height, City, State. Write a python program that reads this information from the JSON file and saves the information into a list of objects of Employee class. Finally print the list of the Employee objects.\n",
    "\n",
    "#2. Create a dictionary of any 7 Indian states and their capitals. Write this into a JSON file."
   ]
  },
  {
   "cell_type": "code",
   "execution_count": null,
   "id": "28d853ea",
   "metadata": {},
   "outputs": [
    {
     "name": "stdout",
     "output_type": "stream",
     "text": [
      "Enter the Employee Name:akash\n",
      "Enter the Employee DOB:15011999\n",
      "Enter the Employee Height in(.cm):160\n",
      "Enter City:ranchi\n",
      "Enter State:jharkhand\n",
      "{1: {'Name': 'akash', 'DOB': 15011999, 'Height': 160.0, 'City': 'ranchi', 'State': 'jharkhand'}}\n",
      "Enter the Employee Name:manish\n",
      "Enter the Employee DOB:01122001\n",
      "Enter the Employee Height in(.cm):158\n",
      "Enter City:ranchi\n",
      "Enter State:jharkhand\n",
      "{1: {'Name': 'akash', 'DOB': 15011999, 'Height': 160.0, 'City': 'ranchi', 'State': 'jharkhand'}, 2: {'Name': 'manish', 'DOB': 1122001, 'Height': 158.0, 'City': 'ranchi', 'State': 'jharkhand'}}\n",
      "Enter the Employee Name:devasish\n",
      "Enter the Employee DOB:09072002\n",
      "Enter the Employee Height in(.cm):165\n",
      "Enter City:ranchi\n",
      "Enter State:jharkhand\n",
      "{1: {'Name': 'akash', 'DOB': 15011999, 'Height': 160.0, 'City': 'ranchi', 'State': 'jharkhand'}, 2: {'Name': 'manish', 'DOB': 1122001, 'Height': 158.0, 'City': 'ranchi', 'State': 'jharkhand'}, 3: {'Name': 'devasish', 'DOB': 9072002, 'Height': 165.0, 'City': 'ranchi', 'State': 'jharkhand'}}\n",
      "Enter the Employee Name:prithvi\n",
      "Enter the Employee DOB:04102000\n",
      "Enter the Employee Height in(.cm):168\n",
      "Enter City:ranchi\n",
      "Enter State:jharkhand\n",
      "{1: {'Name': 'akash', 'DOB': 15011999, 'Height': 160.0, 'City': 'ranchi', 'State': 'jharkhand'}, 2: {'Name': 'manish', 'DOB': 1122001, 'Height': 158.0, 'City': 'ranchi', 'State': 'jharkhand'}, 3: {'Name': 'devasish', 'DOB': 9072002, 'Height': 165.0, 'City': 'ranchi', 'State': 'jharkhand'}, 4: {'Name': 'prithvi', 'DOB': 4102000, 'Height': 168.0, 'City': 'ranchi', 'State': 'jharkhand'}}\n"
     ]
    }
   ],
   "source": [
    "import json\n",
    "class Employee:\n",
    "    def __init__(self):\n",
    "        self.employees={}\n",
    "    def emp_info(self):\n",
    "        self.Name=input(\"Enter the Employee Name:\")\n",
    "        self.DOB=int(input(\"Enter the Employee DOB:\"))\n",
    "        self.Height=float(input(\"Enter the Employee Height in(.cm):\"))\n",
    "        self.City=input(\"Enter City:\")\n",
    "        self.State=input(\"Enter State:\")\n",
    "        self.emp_details={\"Name\":self.Name,\"DOB\":self.DOB,\"Height\":self.Height,\"City\":self.City,\"State\":self.State}\n",
    "        self.emp_id=len(self.employees)+1\n",
    "        self.employees[self.emp_id]=self.emp_details\n",
    "        print(self.employees)\n",
    "        with open(\"employees.json\",\"w\")as f:\n",
    "            json.dump(self.employees,f)\n",
    "e=Employee()\n",
    "e.emp_info()\n",
    "e.emp_info()\n",
    "e.emp_info()\n",
    "e.emp_info()\n",
    "e.emp_info()"
   ]
  },
  {
   "cell_type": "code",
   "execution_count": 10,
   "id": "c7adcaec",
   "metadata": {},
   "outputs": [],
   "source": [
    "#2. Create a dictionary of any 7 Indian states and their capitals. Write this into a JSON file."
   ]
  },
  {
   "cell_type": "code",
   "execution_count": 8,
   "id": "3add6c73",
   "metadata": {},
   "outputs": [
    {
     "name": "stdout",
     "output_type": "stream",
     "text": [
      "Enter the States:jharkhand\n",
      "Enter the Capitals:ranchi\n",
      "{1: {'States': 'jharkhand', 'Capitals': 'ranchi'}}\n",
      "Enter the States:assam\n",
      "Enter the Capitals:dispur\n",
      "{1: {'States': 'jharkhand', 'Capitals': 'ranchi'}, 2: {'States': 'assam', 'Capitals': 'dispur'}}\n",
      "Enter the States:nagaland\n",
      "Enter the Capitals:kohima\n",
      "{1: {'States': 'jharkhand', 'Capitals': 'ranchi'}, 2: {'States': 'assam', 'Capitals': 'dispur'}, 3: {'States': 'nagaland', 'Capitals': 'kohima'}}\n",
      "Enter the States:manipur\n",
      "Enter the Capitals:imphal\n",
      "{1: {'States': 'jharkhand', 'Capitals': 'ranchi'}, 2: {'States': 'assam', 'Capitals': 'dispur'}, 3: {'States': 'nagaland', 'Capitals': 'kohima'}, 4: {'States': 'manipur', 'Capitals': 'imphal'}}\n",
      "Enter the States:meghalaya\n",
      "Enter the Capitals:shillong\n",
      "{1: {'States': 'jharkhand', 'Capitals': 'ranchi'}, 2: {'States': 'assam', 'Capitals': 'dispur'}, 3: {'States': 'nagaland', 'Capitals': 'kohima'}, 4: {'States': 'manipur', 'Capitals': 'imphal'}, 5: {'States': 'meghalaya', 'Capitals': 'shillong'}}\n",
      "Enter the States:tripura\n",
      "Enter the Capitals:agartala\n",
      "{1: {'States': 'jharkhand', 'Capitals': 'ranchi'}, 2: {'States': 'assam', 'Capitals': 'dispur'}, 3: {'States': 'nagaland', 'Capitals': 'kohima'}, 4: {'States': 'manipur', 'Capitals': 'imphal'}, 5: {'States': 'meghalaya', 'Capitals': 'shillong'}, 6: {'States': 'tripura', 'Capitals': 'agartala'}}\n",
      "Enter the States:mizoram\n",
      "Enter the Capitals:aizawl\n",
      "{1: {'States': 'jharkhand', 'Capitals': 'ranchi'}, 2: {'States': 'assam', 'Capitals': 'dispur'}, 3: {'States': 'nagaland', 'Capitals': 'kohima'}, 4: {'States': 'manipur', 'Capitals': 'imphal'}, 5: {'States': 'meghalaya', 'Capitals': 'shillong'}, 6: {'States': 'tripura', 'Capitals': 'agartala'}, 7: {'States': 'mizoram', 'Capitals': 'aizawl'}}\n"
     ]
    }
   ],
   "source": [
    "import json\n",
    "class d:\n",
    "    def __init__(self):\n",
    "        self.di={}\n",
    "    def dic(self):\n",
    "        self.States=input(\"Enter the States:\")\n",
    "        self.Capitals=input(\"Enter the Capitals:\")\n",
    "        self.Indian={\"States\":self.States,\"Capitals\":self.Capitals}\n",
    "        self.dic_id=len(self.di)+1\n",
    "        self.di[self.dic_id]=self.Indian\n",
    "        print(self.di)\n",
    "        with open(\"dict_data.json\",\"w\")as f:\n",
    "            json.dump(self.di,f)\n",
    "x=d()\n",
    "x.dic()\n",
    "x.dic()\n",
    "x.dic()\n",
    "x.dic()\n",
    "x.dic()\n",
    "x.dic()\n",
    "x.dic()"
   ]
  },
  {
   "cell_type": "code",
   "execution_count": null,
   "id": "a9549490",
   "metadata": {},
   "outputs": [],
   "source": [
    "# Assignment 2\n",
    "#1. Create a class named ‘Dog’. It should have a constructor which accepts its name, age and coat color. You must perform the following operations:\n",
    "\n",
    "#a. It should have a function ‘description()’ which prints the name and age of the dog.\n",
    "# b. It should have a function ‘get_info()’ which prints the coat color of the dog.\n",
    "# c. Create child classes ‘JackRussellTerrier’ and ‘Bulldog’ which is inherited from the class ‘Dog’. It should have at least two methods of its own.\n",
    "# d. Create objects and implement the above functionalities."
   ]
  },
  {
   "cell_type": "code",
   "execution_count": 10,
   "id": "69df4d8c",
   "metadata": {},
   "outputs": [
    {
     "name": "stdout",
     "output_type": "stream",
     "text": [
      "Name of the Dog is: Rotwiller\n",
      "Age of the Dog is: 5 yrs\n",
      "Coat Color of the Dog is: Brown\n",
      "Behaviour of the Dog is: Freindly\n",
      "Fitness of the Dog is: Good\n",
      "Behaviour of the Dog is: Agressive\n",
      "Fitness of the Dog is: Excellent\n"
     ]
    }
   ],
   "source": [
    "class Dog:\n",
    "    def __init__(self,name,age,coat_color):\n",
    "        self.name=name\n",
    "        self.age=age\n",
    "        self.coat_color=coat_color\n",
    "    def description(self):\n",
    "        print(\"Name of the Dog is:\",self.name)\n",
    "        print(\"Age of the Dog is:\",self.age)\n",
    "    def get_info(self):\n",
    "        print(\"Coat Color of the Dog is:\",self.coat_color)\n",
    "class JackRussellTerrier(Dog):\n",
    "    def __init__(self,behaviour,fitness):\n",
    "        self.behaviour=behaviour\n",
    "        self.fitness=fitness\n",
    "        print(\"Behaviour of the Dog is:\",self.behaviour)\n",
    "        print(\"Fitness of the Dog is:\",self.fitness)\n",
    "class Bulldog(Dog):\n",
    "    def __init__(self,behaviour,fitness):\n",
    "        self.behaviour=behaviour\n",
    "        self.fitness=fitness\n",
    "        print(\"Behaviour of the Dog is:\",self.behaviour)\n",
    "        print(\"Fitness of the Dog is:\",self.fitness)\n",
    "D=Dog(\"Rotwiller\",\"5 yrs\",\"Brown\")\n",
    "D.description()\n",
    "D.get_info()\n",
    "j=JackRussellTerrier(\"Freindly\",\"Good\")\n",
    "b=Bulldog(\"Agressive\",\"Excellent\")"
   ]
  },
  {
   "cell_type": "code",
   "execution_count": null,
   "id": "57d667af",
   "metadata": {},
   "outputs": [],
   "source": []
  }
 ],
 "metadata": {
  "kernelspec": {
   "display_name": "Python 3 (ipykernel)",
   "language": "python",
   "name": "python3"
  },
  "language_info": {
   "codemirror_mode": {
    "name": "ipython",
    "version": 3
   },
   "file_extension": ".py",
   "mimetype": "text/x-python",
   "name": "python",
   "nbconvert_exporter": "python",
   "pygments_lexer": "ipython3",
   "version": "3.9.12"
  }
 },
 "nbformat": 4,
 "nbformat_minor": 5
}
